{
  "nbformat": 4,
  "nbformat_minor": 0,
  "metadata": {
    "colab": {
      "provenance": [],
      "machine_shape": "hm",
      "gpuType": "A100"
    },
    "kernelspec": {
      "name": "python3",
      "display_name": "Python 3"
    },
    "language_info": {
      "name": "python"
    },
    "accelerator": "GPU"
  },
  "cells": [
    {
      "cell_type": "markdown",
      "source": [
        "dataset  (classification) https://www.kaggle.com/datasets/alfathterry/bbc-full-text-document-classification\n"
      ],
      "metadata": {
        "id": "OB_BcwhuUyQY"
      }
    },
    {
      "cell_type": "code",
      "source": [
        "import numpy as np\n",
        "from torch.utils.data import DataLoader, Dataset\n",
        "from sklearn.model_selection import train_test_split\n",
        "import torch\n",
        "import re\n",
        "import pandas as pd\n",
        "import matplotlib.pyplot as plt\n",
        "from transformers import AdamW\n",
        "from transformers import AutoTokenizer, LongT5Model\n",
        "import torch.nn.functional as F\n",
        "import torch.nn as nn\n",
        "import re"
      ],
      "metadata": {
        "id": "a72psVUwLJyy"
      },
      "execution_count": 1,
      "outputs": []
    },
    {
      "cell_type": "markdown",
      "source": [
        "### RNN - Recurrent neural network\n",
        "https://www.youtube.com/watch?v=4wuIOcD1LLI&t=2640s"
      ],
      "metadata": {
        "id": "qOWfqhLGHRGA"
      }
    },
    {
      "cell_type": "code",
      "source": [
        "class RNN(torch.nn.Module):\n",
        "\n",
        "  def __init__(self, embedding_dims, hidden_size, output_size):\n",
        "\n",
        "    # output size can be num of classification categories\n",
        "\n",
        "    super(RNN, self).__init__()\n",
        "\n",
        "    self.embedding_dims = embedding_dims\n",
        "    self.hidden_size = hidden_size\n",
        "    self.output_size = output_size\n",
        "\n",
        "    self.input_weights = nn.Linear(self.embedding_dims, self.hidden_size)\n",
        "    self.hidden_weights = nn.Linear(self.hidden_size, self.hidden_size)\n",
        "    self.output_weights = nn.Linear(self.hidden_size, self.output_size)\n",
        "\n",
        "\n",
        "  def forward(self, sequence):\n",
        "\n",
        "    hidden_state = torch.zeros((1, self.hidden_size))\n",
        "\n",
        "    for i in range(sequence.shape[0]):\n",
        "        XI = self.input_weights(sequence[i, :])\n",
        "        XH = self.hidden_weights(hidden_state)\n",
        "        hidden_state = torch.tanh(XH + XI)\n",
        "\n",
        "    output = self.output_weights(hidden_state)\n",
        "    output = F.softmax(output, dim=1)\n",
        "\n",
        "    return output\n"
      ],
      "metadata": {
        "id": "DsfgDh2WCpsV"
      },
      "execution_count": 2,
      "outputs": []
    },
    {
      "cell_type": "markdown",
      "source": [
        "### GRU - Gated recurrent units\n",
        "https://pytorch.org/docs/stable/generated/torch.nn.GRU.html\n",
        "\n",
        "https://www.youtube.com/watch?v=rdz0UqQz5Sw"
      ],
      "metadata": {
        "id": "kYQxeWbTVNJt"
      }
    },
    {
      "cell_type": "code",
      "source": [
        "class GRU(torch.nn.Module):\n",
        "  def __init__(self, embedding_dims, hidden_size, output_size):\n",
        "\n",
        "    super(GRU, self).__init__()\n",
        "\n",
        "    self.embedding_dims = embedding_dims\n",
        "    self.hidden_size = hidden_size\n",
        "    self.output_size = output_size\n",
        "\n",
        "    self.output_weights = nn.Linear(self.hidden_size, self.output_size)\n",
        "\n",
        "    self.w_ir = nn.Linear(self.embedding_dims, self.hidden_size)\n",
        "    self.w_hr = nn.Linear(self.hidden_size, self.hidden_size)\n",
        "    self.w_iz = nn.Linear(self.embedding_dims, self.hidden_size)\n",
        "    self.w_hz = nn.Linear(self.hidden_size, self.hidden_size)\n",
        "    self.w_in = nn.Linear(self.embedding_dims, self.hidden_size)\n",
        "    self.w_hn = nn.Linear(self.hidden_size, self.hidden_size)\n",
        "\n",
        "  def forward(self, sequence):\n",
        "\n",
        "    hidden_state = torch.zeros((1, self.hidden_size))\n",
        "    for t in range(sequence.shape[0]):\n",
        "        # xt is 1 * embeddings\n",
        "        xt = sequence[t, :]\n",
        "        # reset\n",
        "        rt = F.sigmoid(self.w_ir(xt) + self.w_hr(hidden_state))\n",
        "        # update\n",
        "        zt = F.sigmoid(self.w_iz(xt) + self.w_hz(hidden_state))\n",
        "        # new gates\n",
        "        nt = F.tanh(self.w_in(xt) + rt * self.w_hn(hidden_state))\n",
        "        # update hidden state\n",
        "        hidden_state = (1 - zt) * nt + zt * hidden_state\n",
        "\n",
        "    output = self.output_weights(self.hidden_state)\n",
        "    output = F.softmax(output, dim=1)\n",
        "    return output\n"
      ],
      "metadata": {
        "id": "TfrXcDgLYFAr"
      },
      "execution_count": 3,
      "outputs": []
    },
    {
      "cell_type": "markdown",
      "source": [
        "### LSTM - Long short-term memory\n",
        "https://www.youtube.com/watch?v=rmxogwIjOhE\n",
        "https://pytorch.org/docs/stable/generated/torch.nn.LSTM.html"
      ],
      "metadata": {
        "id": "3n1Owoq7sf_t"
      }
    },
    {
      "cell_type": "code",
      "source": [
        "class LSTM(nn.Module):\n",
        "\n",
        "    def __init__(self, embedding_dims, hidden_size, output_size):\n",
        "        super(LSTM, self).__init__()\n",
        "\n",
        "        self.embedding_dims = embedding_dims\n",
        "        self.hidden_size = hidden_size\n",
        "        self.output_size = output_size\n",
        "\n",
        "        self.output_weights = nn.Linear(self.hidden_size, self.output_size)\n",
        "\n",
        "        self.w_ii = nn.Linear(self.embedding_dims, self.hidden_size)\n",
        "        self.w_hi = nn.Linear(self.hidden_size, self.hidden_size)\n",
        "        self.w_if = nn.Linear(self.embedding_dims, self.hidden_size)\n",
        "        self.w_hf = nn.Linear(self.hidden_size, self.hidden_size)\n",
        "        self.w_ig = nn.Linear(self.embedding_dims, self.hidden_size)\n",
        "        self.w_hg = nn.Linear(self.hidden_size, self.hidden_size)\n",
        "        self.w_io = nn.Linear(self.embedding_dims, self.hidden_size)\n",
        "        self.w_ho = nn.Linear(self.hidden_size, self.hidden_size)\n",
        "\n",
        "    def forward(self, sequence):\n",
        "\n",
        "        batch_size, seq_length, _ = sequence.size()\n",
        "        hidden_state = torch.zeros((batch_size, self.hidden_size)).to(device)\n",
        "        cell_state = torch.zeros((batch_size, self.hidden_size)).to(device)\n",
        "\n",
        "        for t in range(seq_length):\n",
        "            xt = sequence[:, t, :]\n",
        "\n",
        "            # Input gate\n",
        "            it = torch.sigmoid(self.w_ii(xt) + self.w_hi(hidden_state))\n",
        "\n",
        "            # Forget gate\n",
        "            ft = torch.sigmoid(self.w_if(xt) + self.w_hf(hidden_state))\n",
        "\n",
        "            # Cell gate\n",
        "            gt = torch.tanh(self.w_ig(xt) + self.w_hg(hidden_state))\n",
        "\n",
        "            # Output gate\n",
        "            ot = torch.sigmoid(self.w_io(xt) + self.w_ho(hidden_state))\n",
        "\n",
        "            # Update cell state\n",
        "            cell_state = ft * cell_state + it * gt\n",
        "\n",
        "            # Update hidden state\n",
        "            hidden_state = ot * torch.tanh(cell_state)\n",
        "\n",
        "        output = self.output_weights(hidden_state)\n",
        "        output = F.softmax(output, dim=1)\n",
        "        return output"
      ],
      "metadata": {
        "id": "ClVX15FRdgU0"
      },
      "execution_count": 22,
      "outputs": []
    },
    {
      "cell_type": "markdown",
      "source": [
        "use glove for vectorize the data"
      ],
      "metadata": {
        "id": "Fj_WUplIqrHN"
      }
    },
    {
      "cell_type": "code",
      "source": [
        "clf_data = pd.read_csv('/content/drive/MyDrive/RNN_based_models/dataset/bbc_classification/bbc_data.csv')\n",
        "clf_data.head()"
      ],
      "metadata": {
        "colab": {
          "base_uri": "https://localhost:8080/",
          "height": 206
        },
        "id": "qRit7YiWrSaL",
        "outputId": "6fd6482f-bb2e-483d-8f57-32616fb8d493"
      },
      "execution_count": 23,
      "outputs": [
        {
          "output_type": "execute_result",
          "data": {
            "text/plain": [
              "                                                data         labels\n",
              "0  Musicians to tackle US red tape  Musicians gro...  entertainment\n",
              "1  U2s desire to be number one  U2, who have won ...  entertainment\n",
              "2  Rocker Doherty in on-stage fight  Rock singer ...  entertainment\n",
              "3  Snicket tops US box office chart  The film ada...  entertainment\n",
              "4  Oceans Twelve raids box office  Oceans Twelve,...  entertainment"
            ],
            "text/html": [
              "\n",
              "  <div id=\"df-c730f21e-d657-43fe-af0d-f0b590c54af1\" class=\"colab-df-container\">\n",
              "    <div>\n",
              "<style scoped>\n",
              "    .dataframe tbody tr th:only-of-type {\n",
              "        vertical-align: middle;\n",
              "    }\n",
              "\n",
              "    .dataframe tbody tr th {\n",
              "        vertical-align: top;\n",
              "    }\n",
              "\n",
              "    .dataframe thead th {\n",
              "        text-align: right;\n",
              "    }\n",
              "</style>\n",
              "<table border=\"1\" class=\"dataframe\">\n",
              "  <thead>\n",
              "    <tr style=\"text-align: right;\">\n",
              "      <th></th>\n",
              "      <th>data</th>\n",
              "      <th>labels</th>\n",
              "    </tr>\n",
              "  </thead>\n",
              "  <tbody>\n",
              "    <tr>\n",
              "      <th>0</th>\n",
              "      <td>Musicians to tackle US red tape  Musicians gro...</td>\n",
              "      <td>entertainment</td>\n",
              "    </tr>\n",
              "    <tr>\n",
              "      <th>1</th>\n",
              "      <td>U2s desire to be number one  U2, who have won ...</td>\n",
              "      <td>entertainment</td>\n",
              "    </tr>\n",
              "    <tr>\n",
              "      <th>2</th>\n",
              "      <td>Rocker Doherty in on-stage fight  Rock singer ...</td>\n",
              "      <td>entertainment</td>\n",
              "    </tr>\n",
              "    <tr>\n",
              "      <th>3</th>\n",
              "      <td>Snicket tops US box office chart  The film ada...</td>\n",
              "      <td>entertainment</td>\n",
              "    </tr>\n",
              "    <tr>\n",
              "      <th>4</th>\n",
              "      <td>Oceans Twelve raids box office  Oceans Twelve,...</td>\n",
              "      <td>entertainment</td>\n",
              "    </tr>\n",
              "  </tbody>\n",
              "</table>\n",
              "</div>\n",
              "    <div class=\"colab-df-buttons\">\n",
              "\n",
              "  <div class=\"colab-df-container\">\n",
              "    <button class=\"colab-df-convert\" onclick=\"convertToInteractive('df-c730f21e-d657-43fe-af0d-f0b590c54af1')\"\n",
              "            title=\"Convert this dataframe to an interactive table.\"\n",
              "            style=\"display:none;\">\n",
              "\n",
              "  <svg xmlns=\"http://www.w3.org/2000/svg\" height=\"24px\" viewBox=\"0 -960 960 960\">\n",
              "    <path d=\"M120-120v-720h720v720H120Zm60-500h600v-160H180v160Zm220 220h160v-160H400v160Zm0 220h160v-160H400v160ZM180-400h160v-160H180v160Zm440 0h160v-160H620v160ZM180-180h160v-160H180v160Zm440 0h160v-160H620v160Z\"/>\n",
              "  </svg>\n",
              "    </button>\n",
              "\n",
              "  <style>\n",
              "    .colab-df-container {\n",
              "      display:flex;\n",
              "      gap: 12px;\n",
              "    }\n",
              "\n",
              "    .colab-df-convert {\n",
              "      background-color: #E8F0FE;\n",
              "      border: none;\n",
              "      border-radius: 50%;\n",
              "      cursor: pointer;\n",
              "      display: none;\n",
              "      fill: #1967D2;\n",
              "      height: 32px;\n",
              "      padding: 0 0 0 0;\n",
              "      width: 32px;\n",
              "    }\n",
              "\n",
              "    .colab-df-convert:hover {\n",
              "      background-color: #E2EBFA;\n",
              "      box-shadow: 0px 1px 2px rgba(60, 64, 67, 0.3), 0px 1px 3px 1px rgba(60, 64, 67, 0.15);\n",
              "      fill: #174EA6;\n",
              "    }\n",
              "\n",
              "    .colab-df-buttons div {\n",
              "      margin-bottom: 4px;\n",
              "    }\n",
              "\n",
              "    [theme=dark] .colab-df-convert {\n",
              "      background-color: #3B4455;\n",
              "      fill: #D2E3FC;\n",
              "    }\n",
              "\n",
              "    [theme=dark] .colab-df-convert:hover {\n",
              "      background-color: #434B5C;\n",
              "      box-shadow: 0px 1px 3px 1px rgba(0, 0, 0, 0.15);\n",
              "      filter: drop-shadow(0px 1px 2px rgba(0, 0, 0, 0.3));\n",
              "      fill: #FFFFFF;\n",
              "    }\n",
              "  </style>\n",
              "\n",
              "    <script>\n",
              "      const buttonEl =\n",
              "        document.querySelector('#df-c730f21e-d657-43fe-af0d-f0b590c54af1 button.colab-df-convert');\n",
              "      buttonEl.style.display =\n",
              "        google.colab.kernel.accessAllowed ? 'block' : 'none';\n",
              "\n",
              "      async function convertToInteractive(key) {\n",
              "        const element = document.querySelector('#df-c730f21e-d657-43fe-af0d-f0b590c54af1');\n",
              "        const dataTable =\n",
              "          await google.colab.kernel.invokeFunction('convertToInteractive',\n",
              "                                                    [key], {});\n",
              "        if (!dataTable) return;\n",
              "\n",
              "        const docLinkHtml = 'Like what you see? Visit the ' +\n",
              "          '<a target=\"_blank\" href=https://colab.research.google.com/notebooks/data_table.ipynb>data table notebook</a>'\n",
              "          + ' to learn more about interactive tables.';\n",
              "        element.innerHTML = '';\n",
              "        dataTable['output_type'] = 'display_data';\n",
              "        await google.colab.output.renderOutput(dataTable, element);\n",
              "        const docLink = document.createElement('div');\n",
              "        docLink.innerHTML = docLinkHtml;\n",
              "        element.appendChild(docLink);\n",
              "      }\n",
              "    </script>\n",
              "  </div>\n",
              "\n",
              "\n",
              "<div id=\"df-94aa3d99-d162-447b-b04c-a480b55d7855\">\n",
              "  <button class=\"colab-df-quickchart\" onclick=\"quickchart('df-94aa3d99-d162-447b-b04c-a480b55d7855')\"\n",
              "            title=\"Suggest charts\"\n",
              "            style=\"display:none;\">\n",
              "\n",
              "<svg xmlns=\"http://www.w3.org/2000/svg\" height=\"24px\"viewBox=\"0 0 24 24\"\n",
              "     width=\"24px\">\n",
              "    <g>\n",
              "        <path d=\"M19 3H5c-1.1 0-2 .9-2 2v14c0 1.1.9 2 2 2h14c1.1 0 2-.9 2-2V5c0-1.1-.9-2-2-2zM9 17H7v-7h2v7zm4 0h-2V7h2v10zm4 0h-2v-4h2v4z\"/>\n",
              "    </g>\n",
              "</svg>\n",
              "  </button>\n",
              "\n",
              "<style>\n",
              "  .colab-df-quickchart {\n",
              "      --bg-color: #E8F0FE;\n",
              "      --fill-color: #1967D2;\n",
              "      --hover-bg-color: #E2EBFA;\n",
              "      --hover-fill-color: #174EA6;\n",
              "      --disabled-fill-color: #AAA;\n",
              "      --disabled-bg-color: #DDD;\n",
              "  }\n",
              "\n",
              "  [theme=dark] .colab-df-quickchart {\n",
              "      --bg-color: #3B4455;\n",
              "      --fill-color: #D2E3FC;\n",
              "      --hover-bg-color: #434B5C;\n",
              "      --hover-fill-color: #FFFFFF;\n",
              "      --disabled-bg-color: #3B4455;\n",
              "      --disabled-fill-color: #666;\n",
              "  }\n",
              "\n",
              "  .colab-df-quickchart {\n",
              "    background-color: var(--bg-color);\n",
              "    border: none;\n",
              "    border-radius: 50%;\n",
              "    cursor: pointer;\n",
              "    display: none;\n",
              "    fill: var(--fill-color);\n",
              "    height: 32px;\n",
              "    padding: 0;\n",
              "    width: 32px;\n",
              "  }\n",
              "\n",
              "  .colab-df-quickchart:hover {\n",
              "    background-color: var(--hover-bg-color);\n",
              "    box-shadow: 0 1px 2px rgba(60, 64, 67, 0.3), 0 1px 3px 1px rgba(60, 64, 67, 0.15);\n",
              "    fill: var(--button-hover-fill-color);\n",
              "  }\n",
              "\n",
              "  .colab-df-quickchart-complete:disabled,\n",
              "  .colab-df-quickchart-complete:disabled:hover {\n",
              "    background-color: var(--disabled-bg-color);\n",
              "    fill: var(--disabled-fill-color);\n",
              "    box-shadow: none;\n",
              "  }\n",
              "\n",
              "  .colab-df-spinner {\n",
              "    border: 2px solid var(--fill-color);\n",
              "    border-color: transparent;\n",
              "    border-bottom-color: var(--fill-color);\n",
              "    animation:\n",
              "      spin 1s steps(1) infinite;\n",
              "  }\n",
              "\n",
              "  @keyframes spin {\n",
              "    0% {\n",
              "      border-color: transparent;\n",
              "      border-bottom-color: var(--fill-color);\n",
              "      border-left-color: var(--fill-color);\n",
              "    }\n",
              "    20% {\n",
              "      border-color: transparent;\n",
              "      border-left-color: var(--fill-color);\n",
              "      border-top-color: var(--fill-color);\n",
              "    }\n",
              "    30% {\n",
              "      border-color: transparent;\n",
              "      border-left-color: var(--fill-color);\n",
              "      border-top-color: var(--fill-color);\n",
              "      border-right-color: var(--fill-color);\n",
              "    }\n",
              "    40% {\n",
              "      border-color: transparent;\n",
              "      border-right-color: var(--fill-color);\n",
              "      border-top-color: var(--fill-color);\n",
              "    }\n",
              "    60% {\n",
              "      border-color: transparent;\n",
              "      border-right-color: var(--fill-color);\n",
              "    }\n",
              "    80% {\n",
              "      border-color: transparent;\n",
              "      border-right-color: var(--fill-color);\n",
              "      border-bottom-color: var(--fill-color);\n",
              "    }\n",
              "    90% {\n",
              "      border-color: transparent;\n",
              "      border-bottom-color: var(--fill-color);\n",
              "    }\n",
              "  }\n",
              "</style>\n",
              "\n",
              "  <script>\n",
              "    async function quickchart(key) {\n",
              "      const quickchartButtonEl =\n",
              "        document.querySelector('#' + key + ' button');\n",
              "      quickchartButtonEl.disabled = true;  // To prevent multiple clicks.\n",
              "      quickchartButtonEl.classList.add('colab-df-spinner');\n",
              "      try {\n",
              "        const charts = await google.colab.kernel.invokeFunction(\n",
              "            'suggestCharts', [key], {});\n",
              "      } catch (error) {\n",
              "        console.error('Error during call to suggestCharts:', error);\n",
              "      }\n",
              "      quickchartButtonEl.classList.remove('colab-df-spinner');\n",
              "      quickchartButtonEl.classList.add('colab-df-quickchart-complete');\n",
              "    }\n",
              "    (() => {\n",
              "      let quickchartButtonEl =\n",
              "        document.querySelector('#df-94aa3d99-d162-447b-b04c-a480b55d7855 button');\n",
              "      quickchartButtonEl.style.display =\n",
              "        google.colab.kernel.accessAllowed ? 'block' : 'none';\n",
              "    })();\n",
              "  </script>\n",
              "</div>\n",
              "\n",
              "    </div>\n",
              "  </div>\n"
            ],
            "application/vnd.google.colaboratory.intrinsic+json": {
              "type": "dataframe",
              "variable_name": "clf_data",
              "summary": "{\n  \"name\": \"clf_data\",\n  \"rows\": 2225,\n  \"fields\": [\n    {\n      \"column\": \"data\",\n      \"properties\": {\n        \"dtype\": \"string\",\n        \"num_unique_values\": 2126,\n        \"samples\": [\n          \"Media seek Jackson juror notes  Reporters covering singer Michael Jacksons trial in California have asked to see questionnaires completed by potential jurors.  Lawyers for news organisations said it was \\\"really vital\\\" for the responses of 250 potential jurors to be made public \\\"to serve as a check on the process\\\". Santa Barbara County Superior Court is due to consider the request on Monday. Mr Jackson denies child molestation. It is estimated his trial will cost Santa Barbara county up to $4m (xc2xa32.13m).  Meanwhile Michael Jacksons mother has said she is \\\"100% certain\\\" her son did not commit the child abuse charges he faces. The court is currently selecting 12 jurors and eight stand-by jurors for the trial, a process delayed until at least Thursday after a member of the stars legal team was hit by family illness. Defence lawyers argued against the bid by Associated Press and other news organisations to have potential jurors responses made public.  \\\"The release of the completed jury questionnaires does not serve any purpose other than to add to the sensationalist coverage of this case,\\\" a motion by Mr Jacksons lawyers stated. The estimated total costs of the trial, expected to last five months, range from $2.5m (xc2xa31.33m) to $4m (xc2xa32.13m) of local taxpayers money. Those estimates do not include costs to the city of Santa Maria, the Superior Court or for the investigation and prosecution of the case. The cost of security and other needs around the courthouse has been estimated at $40,000 (xc2xa321,000) per day, said Jason Stilwell, a special projects manager at the county administrators office.  Mr Jackson, 46, denies plying a boy with alcohol and molesting him. His mother Katherine Jackson told US TV network Fox News on Sunday that her pop star son told her he was innocent. \\\"I believe that for one reason - I know his character,\\\" she said. \\\"He loves children. You dont molest anything that you love.\\\" Describing Mr Jackson as \\\"a good person\\\", the mother-of-nine said she feared he would not be given a fair trial. \\\"I cant sleep thinking about what these wicked people might try to do to him,\\\" she said. \",\n          \"Game firm holds cast auditions  Video game firm Bioware is to hold open auditions for people to become cast members for future games.  The company, which makes role playing games such as Knights of the Old Republic and Neverwinter Nights, is seeking people aged 18 to 99. The Canada-based company says it was looking for \\\"a wide variety of people to use as face models for characters\\\". Everyone chosen to appear in a video game will receive a performers fee for the use of their image. The company is inviting people to come along to a shopping mall in West Edmonton, Alberta, on Friday and Saturday, bringing along a piece of photo identification.  \\\"There are hundreds and hundreds of characters in a typical Bioware game,\\\" said Shauna Perry, Biowares audio and external resources producer. \\\"Those people live in any city and village and so we need ordinary people, people with interesting faces.\\\" She added: \\\"Not everyone is a model in the world so we dont want just models in our games.\\\" People chosen to appear in a game will have their head scanned in three dimensions. Hundreds of photos of the persons head are taken so that a model of the head can be generated in 3D. \\\"The 3D model will look exactly like the person - its really quite incredible how detailed they are,\\\" said Ms Perry. She said chosen participants will have no control over how the image is used in a computer game. \\\"We cannot give people any control over how the images are used. \\\"But their face could be used in multiple games - so they could be the hero in one, the villain in another and just a merchant in a third.\\\" \",\n          \"Citizenship event for 18s touted  Citizenship ceremonies could be introduced for people celebrating their 18th birthday, Charles Clarke has said.  The idea will be tried as part of an overhaul of the way government approaches \\\"inclusive citizenship\\\" particularly for ethnic minorities. A pilot scheme based on ceremonies in Australia will start in October. Mr Clarke said it would be a way of recognising young people reaching their voting age when they also gain greater independence from parents. Britains young black and Asian people are to be encouraged to learn about the nations heritage as part of the governments new race strategy which will also target specific issues within different ethnic minority groups. Officials say the home secretary wants young people to feel they belong and to understand their \\\"other cultural identities\\\" alongside being British. The launch follows a row about the role of faith schools in Britain. On Monday school inspection chief David Bell, accused some Islamic schools of failing to teach pupils about their obligations to British society.  The Muslim Council of Britain said Ofsted boss Mr Bells comments were \\\"highly irresponsible\\\". The Home Office started work on its Community Cohesion and Race Equality Strategy last year and the outcome, launched on Wednesday, is called Improving Opportunity, Strengthening Society. It is aimed at tackling racism, exclusion, segregation and the rise in political and religious extremism. \\\"It represents a move away from the one-size-fits-all approach to focus on specifics within cultural groups,\\\" said a Home Office spokesman. \\\"It is not right to say that if you are from a black or ethnic minority group you must be disadvantaged.\\\" The spokesman highlighted specific issues that affect particular communities - for example people of south Asian origin tend to suffer from a high incidence of heart disease.  \\\"It is about drilling down and focusing on these sorts of problems,\\\" the spokesman added. Launching the initiative Mr Clarke said enormous progress had been made on race issues in recent years. He added: \\\"But while many members of black and minority ethnic communities are thriving, some may still find it harder to succeed in employment or gain access to healthcare, education or housing. \\\"This strategy sets out the governments commitment to doing more to identify and respond to the specific needs of minorities in our society.\\\" Some 8% of the UK population described themselves as coming from a non-white ethnic minority in the 2001 Census.  The Downing Street Strategy Unit in 2003 said people from Indian and Chinese backgrounds were doing well on average, often outperforming white people in education and earnings. But those of Pakistani, Bangladeshi and black Caribbean origin were significantly more likely to be unemployed and earn less than whites, it said. The Home Office wants more initiatives which try to promote a sense of belonging by encouraging young people to take part in voluntary work. The programmes are designed to support the citizenship lessons already taking place in schools. \"\n        ],\n        \"semantic_type\": \"\",\n        \"description\": \"\"\n      }\n    },\n    {\n      \"column\": \"labels\",\n      \"properties\": {\n        \"dtype\": \"category\",\n        \"num_unique_values\": 5,\n        \"samples\": [\n          \"business\",\n          \"tech\",\n          \"sport\"\n        ],\n        \"semantic_type\": \"\",\n        \"description\": \"\"\n      }\n    }\n  ]\n}"
            }
          },
          "metadata": {},
          "execution_count": 23
        }
      ]
    },
    {
      "cell_type": "code",
      "source": [
        "def load_glove_embeddings(file_path):\n",
        "    embeddings_index = {}\n",
        "    with open(file_path, encoding=\"utf-8\") as f:\n",
        "        for line in f:\n",
        "            values = line.split()\n",
        "            word = values[0]\n",
        "            vector = np.asarray(values[1:], dtype='float32')\n",
        "            embeddings_index[word] = vector\n",
        "    return embeddings_index"
      ],
      "metadata": {
        "id": "ddm5RJe-rS5D"
      },
      "execution_count": 25,
      "outputs": []
    },
    {
      "cell_type": "code",
      "source": [
        "glove_file_path = '/content/drive/MyDrive/RNN_based_models/embeddings/glove.6B.100d.txt'\n",
        "glove_embeddings = load_glove_embeddings(glove_file_path)"
      ],
      "metadata": {
        "id": "B3_LmN1RvnJH"
      },
      "execution_count": 26,
      "outputs": []
    },
    {
      "cell_type": "code",
      "source": [
        "def preprocess_text(text):\n",
        "    text = text.lower()\n",
        "    text = re.sub(r'[^\\w\\s]', '', text)\n",
        "    return text\n",
        "\n",
        "def sentence_to_glove(sentence, glove_embeddings, max_lengths = 100):\n",
        "    words = preprocess_text(sentence).split()\n",
        "    vectors = [glove_embeddings.get(word, np.zeros(100)) for word in words]\n",
        "    if len(vectors) < max_lengths:\n",
        "        vectors += [np.zeros(100)] * (max_lengths - len(vectors))\n",
        "    else:\n",
        "        vectors = vectors[:max_lengths]\n",
        "    return np.vstack(vectors)\n",
        "\n",
        "clf_data['data'] = clf_data['data'].apply(lambda x: sentence_to_glove(x, glove_embeddings, 100))"
      ],
      "metadata": {
        "id": "hlrvdNmVwHKE"
      },
      "execution_count": 27,
      "outputs": []
    },
    {
      "cell_type": "code",
      "source": [
        "label_encoder = dict(zip(clf_data['labels'].unique(), range(0, 5)))\n",
        "print(label_encoder)\n",
        "clf_data['labels'] = clf_data['labels'].map(label_encoder)"
      ],
      "metadata": {
        "colab": {
          "base_uri": "https://localhost:8080/"
        },
        "id": "uSQ84AyE9I2z",
        "outputId": "cdac4bce-225a-45b5-cc53-ceb411993390"
      },
      "execution_count": 28,
      "outputs": [
        {
          "output_type": "stream",
          "name": "stdout",
          "text": [
            "{'entertainment': 0, 'business': 1, 'sport': 2, 'politics': 3, 'tech': 4}\n"
          ]
        }
      ]
    },
    {
      "cell_type": "code",
      "source": [
        "class CustomDataset(Dataset):\n",
        "    def __init__(self, df):\n",
        "        self.vectors = df['data'].values\n",
        "        self.labels = df['labels'].values\n",
        "\n",
        "    def __getitem__(self, idx):\n",
        "        vector = torch.tensor(self.vectors[idx], dtype=torch.float32)\n",
        "        label = torch.tensor(self.labels[idx], dtype=torch.long)\n",
        "        return vector, label\n",
        "\n",
        "    def __len__(self):\n",
        "        return len(self.labels)\n",
        "\n",
        "train_df, temp_df = train_test_split(clf_data, test_size=0.3, random_state=42)\n",
        "val_df, test_df = train_test_split(temp_df, test_size=0.5, random_state=42)\n",
        "\n",
        "# dataset = CustomDataset(clf_data)\n",
        "batch_size = 32\n",
        "\n",
        "train_dataloader = DataLoader(CustomDataset(train_df), batch_size=batch_size, shuffle=True)\n",
        "eval_dataloader = DataLoader(CustomDataset(val_df), batch_size=batch_size, shuffle=True)\n",
        "test_dataloader = DataLoader(CustomDataset(test_df), batch_size=batch_size, shuffle=True)"
      ],
      "metadata": {
        "id": "dhcr9iF3wMa9"
      },
      "execution_count": 29,
      "outputs": []
    },
    {
      "cell_type": "code",
      "source": [
        "embedding_dim = 100\n",
        "hidden_size = 64\n",
        "output_size = 5\n",
        "model = LSTM(embedding_dim, hidden_size, output_size)"
      ],
      "metadata": {
        "id": "M88TbOWb_dy9"
      },
      "execution_count": 30,
      "outputs": []
    },
    {
      "cell_type": "code",
      "source": [
        "device = \"cuda\" if torch.cuda.is_available() else \"cpu\"\n",
        "model.to(device)"
      ],
      "metadata": {
        "colab": {
          "base_uri": "https://localhost:8080/"
        },
        "id": "IxK57KBu_W4Z",
        "outputId": "b9793403-f82f-44af-f8c2-36a289ee629d"
      },
      "execution_count": 31,
      "outputs": [
        {
          "output_type": "execute_result",
          "data": {
            "text/plain": [
              "LSTM(\n",
              "  (output_weights): Linear(in_features=64, out_features=5, bias=True)\n",
              "  (w_ii): Linear(in_features=100, out_features=64, bias=True)\n",
              "  (w_hi): Linear(in_features=64, out_features=64, bias=True)\n",
              "  (w_if): Linear(in_features=100, out_features=64, bias=True)\n",
              "  (w_hf): Linear(in_features=64, out_features=64, bias=True)\n",
              "  (w_ig): Linear(in_features=100, out_features=64, bias=True)\n",
              "  (w_hg): Linear(in_features=64, out_features=64, bias=True)\n",
              "  (w_io): Linear(in_features=100, out_features=64, bias=True)\n",
              "  (w_ho): Linear(in_features=64, out_features=64, bias=True)\n",
              ")"
            ]
          },
          "metadata": {},
          "execution_count": 31
        }
      ]
    },
    {
      "cell_type": "code",
      "source": [
        "optimizer = AdamW(model.parameters(), lr=5e-5)\n",
        "num_epochs = 30\n",
        "model.to(device)\n",
        "\n",
        "train_loss_list = []\n",
        "eval_loss_list = []\n",
        "\n",
        "for epoch in range(num_epochs):\n",
        "    model.train()\n",
        "    total_train_loss = 0\n",
        "    total_eval_loss = 0\n",
        "    num_train_batches = 0\n",
        "    num_eval_batches = 0\n",
        "\n",
        "    # Training phase\n",
        "    for vectors, labels in train_dataloader:\n",
        "        optimizer.zero_grad()\n",
        "        vectors=vectors.to(device)\n",
        "        labels=labels.to(device)\n",
        "        outputs = model(vectors)\n",
        "        loss = nn.CrossEntropyLoss()(outputs, labels)\n",
        "        total_train_loss += loss.item()\n",
        "        num_train_batches += 1\n",
        "        loss.backward()\n",
        "        optimizer.step()\n",
        "\n",
        "    avg_train_loss = total_train_loss / num_train_batches\n",
        "    train_loss_list.append(avg_train_loss)\n",
        "\n",
        "    # Evaluation phase\n",
        "    model.eval()\n",
        "    with torch.no_grad():\n",
        "        for vectors, labels in eval_dataloader:\n",
        "            outputs = model(sequence=vectors.to(device))\n",
        "            loss = nn.CrossEntropyLoss()(outputs, labels.to(device))\n",
        "            total_eval_loss += loss.item()\n",
        "            num_eval_batches += 1\n",
        "\n",
        "    avg_eval_loss = total_eval_loss / num_eval_batches\n",
        "    eval_loss_list.append(avg_eval_loss)\n",
        "\n",
        "    print(f\"Epoch: {epoch} | Train Loss: {avg_train_loss:.5f}, Eval Loss: {avg_eval_loss:.5f}\")\n",
        "\n",
        "# Plotting outside the loop\n",
        "plt.plot(train_loss_list, label='Train Loss')\n",
        "plt.plot(eval_loss_list, label='Eval Loss')\n",
        "plt.xlabel('Epoch')\n",
        "plt.ylabel('Loss')\n",
        "plt.legend()\n",
        "plt.show()"
      ],
      "metadata": {
        "colab": {
          "base_uri": "https://localhost:8080/",
          "height": 970
        },
        "id": "pySZollk_O3l",
        "outputId": "85a1709b-135b-4eb8-83dc-58c229c80975"
      },
      "execution_count": 34,
      "outputs": [
        {
          "output_type": "stream",
          "name": "stdout",
          "text": [
            "Epoch: 0 | Train Loss: 1.38021, Eval Loss: 1.39371\n",
            "Epoch: 1 | Train Loss: 1.36418, Eval Loss: 1.37462\n",
            "Epoch: 2 | Train Loss: 1.35427, Eval Loss: 1.37357\n",
            "Epoch: 3 | Train Loss: 1.34187, Eval Loss: 1.36637\n",
            "Epoch: 4 | Train Loss: 1.33043, Eval Loss: 1.35368\n",
            "Epoch: 5 | Train Loss: 1.32143, Eval Loss: 1.34710\n",
            "Epoch: 6 | Train Loss: 1.32291, Eval Loss: 1.34941\n",
            "Epoch: 7 | Train Loss: 1.30823, Eval Loss: 1.31956\n",
            "Epoch: 8 | Train Loss: 1.30012, Eval Loss: 1.32407\n",
            "Epoch: 9 | Train Loss: 1.28965, Eval Loss: 1.31137\n",
            "Epoch: 10 | Train Loss: 1.28448, Eval Loss: 1.29262\n",
            "Epoch: 11 | Train Loss: 1.26931, Eval Loss: 1.28524\n",
            "Epoch: 12 | Train Loss: 1.26064, Eval Loss: 1.27346\n",
            "Epoch: 13 | Train Loss: 1.25520, Eval Loss: 1.26743\n",
            "Epoch: 14 | Train Loss: 1.24722, Eval Loss: 1.26712\n",
            "Epoch: 15 | Train Loss: 1.24487, Eval Loss: 1.25597\n",
            "Epoch: 16 | Train Loss: 1.23690, Eval Loss: 1.24713\n",
            "Epoch: 17 | Train Loss: 1.22330, Eval Loss: 1.25397\n",
            "Epoch: 18 | Train Loss: 1.22044, Eval Loss: 1.24477\n",
            "Epoch: 19 | Train Loss: 1.21665, Eval Loss: 1.24131\n",
            "Epoch: 20 | Train Loss: 1.21143, Eval Loss: 1.22217\n",
            "Epoch: 21 | Train Loss: 1.21066, Eval Loss: 1.22383\n",
            "Epoch: 22 | Train Loss: 1.20072, Eval Loss: 1.22573\n",
            "Epoch: 23 | Train Loss: 1.20199, Eval Loss: 1.21227\n",
            "Epoch: 24 | Train Loss: 1.19117, Eval Loss: 1.21250\n",
            "Epoch: 25 | Train Loss: 1.18565, Eval Loss: 1.20902\n",
            "Epoch: 26 | Train Loss: 1.21111, Eval Loss: 1.24959\n",
            "Epoch: 27 | Train Loss: 1.20171, Eval Loss: 1.22035\n",
            "Epoch: 28 | Train Loss: 1.18951, Eval Loss: 1.20597\n",
            "Epoch: 29 | Train Loss: 1.17901, Eval Loss: 1.19166\n"
          ]
        },
        {
          "output_type": "display_data",
          "data": {
            "text/plain": [
              "<Figure size 640x480 with 1 Axes>"
            ],
            "image/png": "[encoded data removed]"
          },
          "metadata": {}
        }
      ]
    },
    {
      "cell_type": "code",
      "source": [
        "model.eval()\n",
        "predictions = []\n",
        "true_labels = []\n",
        "with torch.no_grad():\n",
        "    for vectors, labels in test_dataloader:\n",
        "        vectors = vectors.to(device)\n",
        "        outputs = model(vectors)\n",
        "        _, preds = torch.max(outputs, 1)\n",
        "        predictions.extend(preds.cpu().numpy())\n",
        "        true_labels.extend(labels.cpu().numpy())\n",
        "\n",
        "predictions = np.array(predictions)\n",
        "true_labels = np.array(true_labels)\n",
        "\n",
        "accuracy = np.mean(predictions == true_labels)\n",
        "print(f\"Test Accuracy: {accuracy:.5f}\")"
      ],
      "metadata": {
        "colab": {
          "base_uri": "https://localhost:8080/"
        },
        "id": "uNKrPxMmRVBg",
        "outputId": "660e8910-9e5a-4faf-deb3-6cc9eaa6c7d7"
      },
      "execution_count": 35,
      "outputs": [
        {
          "output_type": "stream",
          "name": "stdout",
          "text": [
            "Test Accuracy: 0.75749\n"
          ]
        }
      ]
    },
    {
      "cell_type": "code",
      "source": [
        "predictions"
      ],
      "metadata": {
        "colab": {
          "base_uri": "https://localhost:8080/"
        },
        "id": "TbrHstgyRak5",
        "outputId": "78bdf38b-5ae4-47b3-d2ac-f980ba64fb36"
      },
      "execution_count": 36,
      "outputs": [
        {
          "output_type": "execute_result",
          "data": {
            "text/plain": [
              "array([3, 1, 2, 1, 0, 0, 0, 3, 1, 0, 0, 0, 0, 3, 1, 3, 0, 0, 1, 2, 1, 3,\n",
              "       3, 0, 1, 3, 2, 1, 1, 3, 0, 1, 3, 1, 2, 0, 2, 0, 3, 0, 1, 3, 2, 0,\n",
              "       0, 0, 2, 2, 3, 3, 1, 0, 2, 2, 3, 1, 2, 0, 2, 0, 0, 0, 3, 2, 3, 1,\n",
              "       2, 2, 3, 3, 2, 0, 3, 2, 2, 0, 0, 0, 0, 2, 2, 0, 2, 0, 3, 3, 3, 1,\n",
              "       1, 1, 0, 1, 1, 1, 2, 2, 0, 2, 0, 0, 3, 1, 3, 0, 1, 2, 1, 3, 0, 0,\n",
              "       2, 0, 1, 1, 1, 2, 1, 2, 0, 3, 1, 3, 2, 2, 1, 0, 3, 2, 2, 2, 2, 0,\n",
              "       1, 1, 3, 0, 3, 3, 1, 1, 1, 3, 3, 2, 1, 0, 1, 2, 0, 3, 0, 2, 2, 0,\n",
              "       1, 2, 0, 0, 2, 0, 0, 2, 1, 3, 0, 0, 0, 3, 3, 1, 0, 2, 2, 1, 0, 3,\n",
              "       1, 1, 0, 1, 2, 0, 0, 3, 2, 0, 3, 2, 1, 3, 2, 0, 2, 3, 3, 1, 2, 3,\n",
              "       0, 2, 1, 0, 0, 2, 2, 2, 0, 1, 0, 3, 0, 0, 3, 0, 1, 3, 1, 2, 0, 0,\n",
              "       0, 3, 1, 0, 3, 0, 2, 3, 0, 2, 2, 1, 3, 1, 2, 1, 0, 1, 3, 0, 2, 0,\n",
              "       3, 2, 2, 3, 0, 0, 1, 2, 1, 3, 0, 1, 1, 0, 1, 3, 0, 3, 0, 1, 3, 2,\n",
              "       1, 3, 2, 2, 2, 2, 2, 0, 2, 3, 1, 3, 2, 1, 0, 2, 3, 1, 0, 0, 1, 2,\n",
              "       3, 2, 2, 2, 1, 0, 2, 0, 2, 2, 3, 2, 0, 2, 1, 3, 0, 2, 0, 3, 1, 0,\n",
              "       2, 3, 1, 0, 3, 3, 0, 1, 1, 1, 0, 3, 2, 0, 1, 0, 3, 1, 3, 3, 0, 1,\n",
              "       1, 0, 0, 1])"
            ]
          },
          "metadata": {},
          "execution_count": 36
        }
      ]
    },
    {
      "cell_type": "code",
      "source": [
        "true_labels"
      ],
      "metadata": {
        "colab": {
          "base_uri": "https://localhost:8080/"
        },
        "id": "iQsz0v4fRc9O",
        "outputId": "83da261d-c69a-45b0-9255-f5e9d492ff98"
      },
      "execution_count": 37,
      "outputs": [
        {
          "output_type": "execute_result",
          "data": {
            "text/plain": [
              "array([3, 1, 1, 1, 4, 0, 4, 3, 1, 4, 0, 3, 0, 3, 1, 1, 0, 0, 1, 2, 1, 3,\n",
              "       3, 0, 1, 3, 2, 1, 1, 3, 4, 1, 4, 1, 2, 4, 2, 0, 3, 0, 1, 3, 2, 0,\n",
              "       0, 4, 2, 2, 3, 1, 4, 0, 2, 2, 1, 1, 2, 4, 2, 0, 4, 0, 3, 2, 3, 1,\n",
              "       2, 2, 3, 3, 2, 4, 3, 2, 2, 0, 3, 0, 0, 2, 2, 0, 2, 4, 3, 3, 3, 1,\n",
              "       1, 1, 4, 4, 4, 1, 2, 2, 0, 2, 0, 0, 3, 1, 3, 4, 1, 2, 1, 0, 4, 0,\n",
              "       2, 4, 1, 1, 4, 4, 1, 2, 0, 3, 1, 3, 2, 2, 1, 0, 3, 2, 2, 2, 2, 0,\n",
              "       1, 1, 3, 0, 3, 3, 1, 1, 1, 3, 1, 2, 1, 4, 1, 2, 3, 3, 4, 2, 2, 0,\n",
              "       1, 4, 0, 4, 1, 0, 4, 2, 1, 3, 0, 4, 0, 3, 3, 1, 0, 2, 2, 1, 4, 3,\n",
              "       1, 1, 3, 1, 2, 4, 0, 4, 2, 4, 1, 2, 1, 3, 2, 0, 2, 1, 3, 4, 2, 3,\n",
              "       0, 4, 1, 4, 4, 2, 2, 2, 0, 1, 0, 3, 0, 4, 1, 4, 1, 4, 1, 2, 4, 4,\n",
              "       4, 3, 1, 0, 3, 2, 2, 4, 0, 2, 2, 1, 4, 4, 2, 1, 0, 1, 3, 0, 2, 4,\n",
              "       3, 2, 2, 1, 0, 4, 1, 0, 1, 4, 0, 1, 1, 4, 1, 3, 0, 3, 0, 1, 3, 2,\n",
              "       1, 3, 4, 2, 2, 2, 2, 3, 2, 3, 1, 3, 2, 1, 0, 2, 3, 1, 0, 0, 1, 0,\n",
              "       3, 2, 2, 4, 1, 4, 2, 4, 2, 2, 3, 2, 0, 2, 1, 3, 4, 2, 3, 1, 4, 4,\n",
              "       2, 3, 1, 0, 3, 3, 0, 1, 1, 1, 3, 1, 2, 0, 1, 0, 3, 1, 1, 3, 4, 4,\n",
              "       1, 0, 4, 1])"
            ]
          },
          "metadata": {},
          "execution_count": 37
        }
      ]
    },
    {
      "cell_type": "code",
      "source": [
        "from sklearn.metrics import confusion_matrix, ConfusionMatrixDisplay\n",
        "cm = confusion_matrix(true_labels, predictions, labels=range(5))\n",
        "disp = ConfusionMatrixDisplay(confusion_matrix=cm,\n",
        "                              display_labels=range(5))\n",
        "disp.plot()"
      ],
      "metadata": {
        "colab": {
          "base_uri": "https://localhost:8080/",
          "height": 466
        },
        "id": "UOtkRWSaRnKC",
        "outputId": "25603aa0-b49a-424d-afa4-bc7c3c407f84"
      },
      "execution_count": 40,
      "outputs": [
        {
          "output_type": "execute_result",
          "data": {
            "text/plain": [
              "<sklearn.metrics._plot.confusion_matrix.ConfusionMatrixDisplay at 0x7db95c15ae90>"
            ]
          },
          "metadata": {},
          "execution_count": 40
        },
        {
          "output_type": "display_data",
          "data": {
            "text/plain": [
              "<Figure size 640x480 with 2 Axes>"
            ],
            "image/png": "[encoded data removed]"
          },
          "metadata": {}
        }
      ]
    },
    {
      "cell_type": "markdown",
      "source": [
        "a bunch of mitakes happening due to misconfusion between 4 and 0"
      ],
      "metadata": {
        "id": "btQciZUISKPf"
      }
    }
  ]
}